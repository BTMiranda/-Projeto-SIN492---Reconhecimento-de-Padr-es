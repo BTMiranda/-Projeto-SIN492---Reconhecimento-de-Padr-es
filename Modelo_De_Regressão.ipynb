{
 "cells": [
  {
   "cell_type": "markdown",
   "id": "bdcfb508-a341-487c-b763-3ed8acf500bf",
   "metadata": {},
   "source": [
    "# Importando Bibliotecas"
   ]
  },
  {
   "cell_type": "code",
   "execution_count": 52,
   "id": "912139cd-3f98-4b7b-8f1c-bc2269ded5ea",
   "metadata": {},
   "outputs": [],
   "source": [
    "import numpy as np\n",
    "import pandas as pd\n",
    "import time"
   ]
  },
  {
   "cell_type": "markdown",
   "id": "68d39300-791b-41a6-addb-f0ec00e84d58",
   "metadata": {},
   "source": [
    "# Importanto Database"
   ]
  },
  {
   "cell_type": "code",
   "execution_count": 53,
   "id": "e7d35357-cfba-4e05-a862-1de670613e8f",
   "metadata": {},
   "outputs": [
    {
     "data": {
      "text/html": [
       "<div>\n",
       "<style scoped>\n",
       "    .dataframe tbody tr th:only-of-type {\n",
       "        vertical-align: middle;\n",
       "    }\n",
       "\n",
       "    .dataframe tbody tr th {\n",
       "        vertical-align: top;\n",
       "    }\n",
       "\n",
       "    .dataframe thead th {\n",
       "        text-align: right;\n",
       "    }\n",
       "</style>\n",
       "<table border=\"1\" class=\"dataframe\">\n",
       "  <thead>\n",
       "    <tr style=\"text-align: right;\">\n",
       "      <th></th>\n",
       "      <th>feature0</th>\n",
       "      <th>feature1</th>\n",
       "      <th>feature2</th>\n",
       "      <th>feature3</th>\n",
       "      <th>feature4</th>\n",
       "      <th>feature5</th>\n",
       "      <th>feature6</th>\n",
       "      <th>feature7</th>\n",
       "      <th>feature8</th>\n",
       "      <th>feature9</th>\n",
       "      <th>feature10</th>\n",
       "      <th>feature11</th>\n",
       "      <th>feature12</th>\n",
       "      <th>feature13</th>\n",
       "      <th>feature14</th>\n",
       "      <th>feature15</th>\n",
       "      <th>target</th>\n",
       "    </tr>\n",
       "  </thead>\n",
       "  <tbody>\n",
       "    <tr>\n",
       "      <th>0</th>\n",
       "      <td>200.0</td>\n",
       "      <td>2</td>\n",
       "      <td>662.28</td>\n",
       "      <td>39.10</td>\n",
       "      <td>-188.55</td>\n",
       "      <td>0.246978</td>\n",
       "      <td>761</td>\n",
       "      <td>0.004548</td>\n",
       "      <td>3.523703</td>\n",
       "      <td>167326</td>\n",
       "      <td>33441.06</td>\n",
       "      <td>0.019804</td>\n",
       "      <td>26.850000</td>\n",
       "      <td>0.009198</td>\n",
       "      <td>94.611429</td>\n",
       "      <td>7</td>\n",
       "      <td>0</td>\n",
       "    </tr>\n",
       "    <tr>\n",
       "      <th>1</th>\n",
       "      <td>150.0</td>\n",
       "      <td>3</td>\n",
       "      <td>0.00</td>\n",
       "      <td>149.55</td>\n",
       "      <td>-0.45</td>\n",
       "      <td>0.150000</td>\n",
       "      <td>3</td>\n",
       "      <td>0.037975</td>\n",
       "      <td>0.000000</td>\n",
       "      <td>79</td>\n",
       "      <td>78.93</td>\n",
       "      <td>0.000000</td>\n",
       "      <td>0.000000</td>\n",
       "      <td>0.000000</td>\n",
       "      <td>0.000000</td>\n",
       "      <td>0</td>\n",
       "      <td>1</td>\n",
       "    </tr>\n",
       "    <tr>\n",
       "      <th>2</th>\n",
       "      <td>50.0</td>\n",
       "      <td>23</td>\n",
       "      <td>346.08</td>\n",
       "      <td>30.41</td>\n",
       "      <td>-102.10</td>\n",
       "      <td>2.430952</td>\n",
       "      <td>42</td>\n",
       "      <td>0.004239</td>\n",
       "      <td>3.389618</td>\n",
       "      <td>9907</td>\n",
       "      <td>18858.77</td>\n",
       "      <td>0.018351</td>\n",
       "      <td>25.525000</td>\n",
       "      <td>0.095238</td>\n",
       "      <td>86.520000</td>\n",
       "      <td>4</td>\n",
       "      <td>0</td>\n",
       "    </tr>\n",
       "    <tr>\n",
       "      <th>3</th>\n",
       "      <td>100.0</td>\n",
       "      <td>22</td>\n",
       "      <td>0.00</td>\n",
       "      <td>43.84</td>\n",
       "      <td>-56.16</td>\n",
       "      <td>0.150968</td>\n",
       "      <td>372</td>\n",
       "      <td>0.005854</td>\n",
       "      <td>0.000000</td>\n",
       "      <td>63544</td>\n",
       "      <td>1164.11</td>\n",
       "      <td>0.000000</td>\n",
       "      <td>0.000000</td>\n",
       "      <td>0.000000</td>\n",
       "      <td>0.000000</td>\n",
       "      <td>0</td>\n",
       "      <td>1</td>\n",
       "    </tr>\n",
       "    <tr>\n",
       "      <th>4</th>\n",
       "      <td>50.0</td>\n",
       "      <td>18</td>\n",
       "      <td>87.56</td>\n",
       "      <td>-3.05</td>\n",
       "      <td>-94.50</td>\n",
       "      <td>0.412664</td>\n",
       "      <td>229</td>\n",
       "      <td>0.004572</td>\n",
       "      <td>0.926561</td>\n",
       "      <td>50089</td>\n",
       "      <td>1786.26</td>\n",
       "      <td>0.049019</td>\n",
       "      <td>94.500000</td>\n",
       "      <td>0.004367</td>\n",
       "      <td>87.560000</td>\n",
       "      <td>1</td>\n",
       "      <td>0</td>\n",
       "    </tr>\n",
       "    <tr>\n",
       "      <th>5</th>\n",
       "      <td>850.0</td>\n",
       "      <td>9</td>\n",
       "      <td>1435.68</td>\n",
       "      <td>1.60</td>\n",
       "      <td>-848.40</td>\n",
       "      <td>0.589167</td>\n",
       "      <td>1440</td>\n",
       "      <td>0.003879</td>\n",
       "      <td>1.692221</td>\n",
       "      <td>371185</td>\n",
       "      <td>2745.78</td>\n",
       "      <td>0.522868</td>\n",
       "      <td>40.400000</td>\n",
       "      <td>0.014583</td>\n",
       "      <td>68.365714</td>\n",
       "      <td>21</td>\n",
       "      <td>1</td>\n",
       "    </tr>\n",
       "    <tr>\n",
       "      <th>6</th>\n",
       "      <td>50.0</td>\n",
       "      <td>1</td>\n",
       "      <td>436.85</td>\n",
       "      <td>6.80</td>\n",
       "      <td>-82.15</td>\n",
       "      <td>0.238116</td>\n",
       "      <td>345</td>\n",
       "      <td>0.018375</td>\n",
       "      <td>5.317712</td>\n",
       "      <td>18776</td>\n",
       "      <td>959.57</td>\n",
       "      <td>0.455256</td>\n",
       "      <td>20.537500</td>\n",
       "      <td>0.011594</td>\n",
       "      <td>109.212500</td>\n",
       "      <td>4</td>\n",
       "      <td>1</td>\n",
       "    </tr>\n",
       "    <tr>\n",
       "      <th>7</th>\n",
       "      <td>0.0</td>\n",
       "      <td>0</td>\n",
       "      <td>0.00</td>\n",
       "      <td>-6.50</td>\n",
       "      <td>-16.80</td>\n",
       "      <td>0.150000</td>\n",
       "      <td>112</td>\n",
       "      <td>0.017231</td>\n",
       "      <td>0.000000</td>\n",
       "      <td>6500</td>\n",
       "      <td>6692.13</td>\n",
       "      <td>0.000000</td>\n",
       "      <td>0.000000</td>\n",
       "      <td>0.000000</td>\n",
       "      <td>0.000000</td>\n",
       "      <td>0</td>\n",
       "      <td>0</td>\n",
       "    </tr>\n",
       "    <tr>\n",
       "      <th>8</th>\n",
       "      <td>100.0</td>\n",
       "      <td>11</td>\n",
       "      <td>1027.86</td>\n",
       "      <td>79.76</td>\n",
       "      <td>-110.56</td>\n",
       "      <td>0.362500</td>\n",
       "      <td>288</td>\n",
       "      <td>0.015098</td>\n",
       "      <td>9.845402</td>\n",
       "      <td>19075</td>\n",
       "      <td>3611.20</td>\n",
       "      <td>0.284631</td>\n",
       "      <td>8.030769</td>\n",
       "      <td>0.045139</td>\n",
       "      <td>79.066154</td>\n",
       "      <td>13</td>\n",
       "      <td>0</td>\n",
       "    </tr>\n",
       "    <tr>\n",
       "      <th>9</th>\n",
       "      <td>600.0</td>\n",
       "      <td>21</td>\n",
       "      <td>2876.01</td>\n",
       "      <td>3.68</td>\n",
       "      <td>-596.32</td>\n",
       "      <td>0.265251</td>\n",
       "      <td>2247</td>\n",
       "      <td>0.004584</td>\n",
       "      <td>4.825358</td>\n",
       "      <td>490191</td>\n",
       "      <td>2324.27</td>\n",
       "      <td>1.237382</td>\n",
       "      <td>31.369474</td>\n",
       "      <td>0.008456</td>\n",
       "      <td>151.368947</td>\n",
       "      <td>19</td>\n",
       "      <td>1</td>\n",
       "    </tr>\n",
       "  </tbody>\n",
       "</table>\n",
       "</div>"
      ],
      "text/plain": [
       "   feature0  feature1  feature2  feature3  feature4  feature5  feature6  \\\n",
       "0     200.0         2    662.28     39.10   -188.55  0.246978       761   \n",
       "1     150.0         3      0.00    149.55     -0.45  0.150000         3   \n",
       "2      50.0        23    346.08     30.41   -102.10  2.430952        42   \n",
       "3     100.0        22      0.00     43.84    -56.16  0.150968       372   \n",
       "4      50.0        18     87.56     -3.05    -94.50  0.412664       229   \n",
       "5     850.0         9   1435.68      1.60   -848.40  0.589167      1440   \n",
       "6      50.0         1    436.85      6.80    -82.15  0.238116       345   \n",
       "7       0.0         0      0.00     -6.50    -16.80  0.150000       112   \n",
       "8     100.0        11   1027.86     79.76   -110.56  0.362500       288   \n",
       "9     600.0        21   2876.01      3.68   -596.32  0.265251      2247   \n",
       "\n",
       "   feature7  feature8  feature9  feature10  feature11  feature12  feature13  \\\n",
       "0  0.004548  3.523703    167326   33441.06   0.019804  26.850000   0.009198   \n",
       "1  0.037975  0.000000        79      78.93   0.000000   0.000000   0.000000   \n",
       "2  0.004239  3.389618      9907   18858.77   0.018351  25.525000   0.095238   \n",
       "3  0.005854  0.000000     63544    1164.11   0.000000   0.000000   0.000000   \n",
       "4  0.004572  0.926561     50089    1786.26   0.049019  94.500000   0.004367   \n",
       "5  0.003879  1.692221    371185    2745.78   0.522868  40.400000   0.014583   \n",
       "6  0.018375  5.317712     18776     959.57   0.455256  20.537500   0.011594   \n",
       "7  0.017231  0.000000      6500    6692.13   0.000000   0.000000   0.000000   \n",
       "8  0.015098  9.845402     19075    3611.20   0.284631   8.030769   0.045139   \n",
       "9  0.004584  4.825358    490191    2324.27   1.237382  31.369474   0.008456   \n",
       "\n",
       "    feature14  feature15  target  \n",
       "0   94.611429          7       0  \n",
       "1    0.000000          0       1  \n",
       "2   86.520000          4       0  \n",
       "3    0.000000          0       1  \n",
       "4   87.560000          1       0  \n",
       "5   68.365714         21       1  \n",
       "6  109.212500          4       1  \n",
       "7    0.000000          0       0  \n",
       "8   79.066154         13       0  \n",
       "9  151.368947         19       1  "
      ]
     },
     "execution_count": 53,
     "metadata": {},
     "output_type": "execute_result"
    }
   ],
   "source": [
    "data = pd.read_csv(\"dataset_SIN492.parquet.csv\")\n",
    "data.head(10)"
   ]
  },
  {
   "cell_type": "markdown",
   "id": "12954721-e0f3-44d7-93ba-9c7348f7799b",
   "metadata": {},
   "source": [
    "# Características do Conjunto de Dados"
   ]
  },
  {
   "cell_type": "code",
   "execution_count": 54,
   "id": "d293b665-a6e9-4c12-9792-e520d3110615",
   "metadata": {},
   "outputs": [],
   "source": [
    "X = dataset_SIN492.iloc[:,:15].values\n",
    "y = dataset_SIN492.iloc[:,16].values"
   ]
  },
  {
   "cell_type": "code",
   "execution_count": 55,
   "id": "48a405e9-9122-4bd3-b16d-6d8c0dc90708",
   "metadata": {},
   "outputs": [
    {
     "data": {
      "text/plain": [
       "(array([0, 1], dtype=int64), array([206, 260], dtype=int64))"
      ]
     },
     "execution_count": 55,
     "metadata": {},
     "output_type": "execute_result"
    }
   ],
   "source": [
    "np.unique(y, return_counts=True)"
   ]
  },
  {
   "cell_type": "markdown",
   "id": "0656b312-6cb4-438f-acb9-f46f327b2ec3",
   "metadata": {},
   "source": [
    "# Divisão de Treinamento e Teste\n",
    "# Padronizar os recursos da matriz X (Média de 0 e desvio Padrão 1)"
   ]
  },
  {
   "cell_type": "code",
   "execution_count": 56,
   "id": "74d8923b-20ed-47bc-ae69-10c953ce2960",
   "metadata": {},
   "outputs": [],
   "source": [
    "from sklearn.model_selection import train_test_split\n",
    "XTrain, XTest, yTrain, yTest = train_test_split(X, y, test_size=0.2)\n",
    "\n",
    "from sklearn.preprocessing import StandardScaler\n",
    "scale_obj = StandardScaler()\n",
    "XTrain = scale_obj.fit_transform(XTrain.astype(float))\n",
    "XTest = scale_obj.transform(XTest.astype(float))"
   ]
  },
  {
   "cell_type": "markdown",
   "id": "1a0e50f0-457b-4f5b-a811-19ad7e04fbac",
   "metadata": {},
   "source": [
    "# Treinamento utilizando Regressão Logística"
   ]
  },
  {
   "cell_type": "code",
   "execution_count": 57,
   "id": "f049739c-ba53-429f-af10-6e230a5efb14",
   "metadata": {},
   "outputs": [
    {
     "name": "stdout",
     "output_type": "stream",
     "text": [
      "Tempo de treino: 0.044393899999704445\n"
     ]
    }
   ],
   "source": [
    "from sklearn.linear_model import LogisticRegression\n",
    "\n",
    "model = LogisticRegression(solver='lbfgs', max_iter=1000)\n",
    "start_time = time.perf_counter()\n",
    "model.fit(XTrain, yTrain)\n",
    "end_time = time.perf_counter()\n",
    "\n",
    "print(\"Tempo de treino:\", end_time - start_time)"
   ]
  },
  {
   "cell_type": "code",
   "execution_count": 58,
   "id": "5f19780f-d2cd-46f9-91c7-7789bd927d87",
   "metadata": {},
   "outputs": [
    {
     "data": {
      "text/plain": [
       "0.6382978723404256"
      ]
     },
     "execution_count": 58,
     "metadata": {},
     "output_type": "execute_result"
    }
   ],
   "source": [
    "model.score(XTest, yTest)"
   ]
  },
  {
   "cell_type": "markdown",
   "id": "210a0275-e8aa-48a1-a8d2-14d58e99e9ad",
   "metadata": {},
   "source": [
    "# Matriz de Confusão"
   ]
  },
  {
   "cell_type": "code",
   "execution_count": 59,
   "id": "6b83cccd-326b-43b8-8cbb-b071118e40f0",
   "metadata": {},
   "outputs": [
    {
     "data": {
      "text/plain": [
       "<sklearn.metrics._plot.confusion_matrix.ConfusionMatrixDisplay at 0x20881f38790>"
      ]
     },
     "execution_count": 59,
     "metadata": {},
     "output_type": "execute_result"
    },
    {
     "data": {
      "image/png": "[encoded data removed]",
      "text/plain": [
       "<Figure size 640x480 with 2 Axes>"
      ]
     },
     "metadata": {},
     "output_type": "display_data"
    }
   ],
   "source": [
    "import matplotlib.pyplot as plt\n",
    "from sklearn.metrics import ConfusionMatrixDisplay\n",
    "ConfusionMatrixDisplay.from_estimator(model, XTest, yTest)"
   ]
  },
  {
   "cell_type": "markdown",
   "id": "49829ef0-e142-45cd-b71b-0f17f7e9f94f",
   "metadata": {},
   "source": [
    "# Modelo com PCA"
   ]
  },
  {
   "cell_type": "code",
   "execution_count": 60,
   "id": "98e54c00-b5ab-4164-b781-0fa91a058a9c",
   "metadata": {},
   "outputs": [],
   "source": [
    "from sklearn import decomposition\n",
    "pca = decomposition.PCA(n_components=10)\n",
    "XTrain = pca.fit_transform(XTrain)\n",
    "XTest = pca.transform(XTest)"
   ]
  },
  {
   "cell_type": "code",
   "execution_count": 61,
   "id": "8b57930d-1055-4a3c-b24b-de27d8821d15",
   "metadata": {},
   "outputs": [
    {
     "name": "stdout",
     "output_type": "stream",
     "text": [
      "Tempo de treino: 0.02050769999914337\n"
     ]
    }
   ],
   "source": [
    "from sklearn.linear_model import LogisticRegression\n",
    "\n",
    "model = LogisticRegression(solver='lbfgs', max_iter=1000)\n",
    "start_time = time.perf_counter()\n",
    "model.fit(XTrain, yTrain)\n",
    "end_time = time.perf_counter()\n",
    "\n",
    "print(\"Tempo de treino:\", end_time - start_time)"
   ]
  },
  {
   "cell_type": "code",
   "execution_count": 62,
   "id": "ddbfa140-23bc-460c-9475-6fb06c34c7f2",
   "metadata": {},
   "outputs": [
    {
     "data": {
      "text/plain": [
       "0.6595744680851063"
      ]
     },
     "execution_count": 62,
     "metadata": {},
     "output_type": "execute_result"
    }
   ],
   "source": [
    "model.score(XTest, yTest)"
   ]
  },
  {
   "cell_type": "code",
   "execution_count": 63,
   "id": "f1073c32-b7db-46e0-bd16-d7ca53a82e57",
   "metadata": {},
   "outputs": [
    {
     "data": {
      "text/plain": [
       "<sklearn.metrics._plot.confusion_matrix.ConfusionMatrixDisplay at 0x208820230d0>"
      ]
     },
     "execution_count": 63,
     "metadata": {},
     "output_type": "execute_result"
    },
    {
     "data": {
      "image/png": "[encoded data removed]",
      "text/plain": [
       "<Figure size 640x480 with 2 Axes>"
      ]
     },
     "metadata": {},
     "output_type": "display_data"
    }
   ],
   "source": [
    "import matplotlib.pyplot as plt\n",
    "from sklearn.metrics import ConfusionMatrixDisplay\n",
    "ConfusionMatrixDisplay.from_estimator(model, XTest, yTest)"
   ]
  },
  {
   "cell_type": "code",
   "execution_count": null,
   "id": "0a70d504-d87d-41fb-8637-d1eb56876da8",
   "metadata": {},
   "outputs": [],
   "source": []
  }
 ],
 "metadata": {
  "kernelspec": {
   "display_name": "Python 3 (ipykernel)",
   "language": "python",
   "name": "python3"
  },
  "language_info": {
   "codemirror_mode": {
    "name": "ipython",
    "version": 3
   },
   "file_extension": ".py",
   "mimetype": "text/x-python",
   "name": "python",
   "nbconvert_exporter": "python",
   "pygments_lexer": "ipython3",
   "version": "3.11.5"
  }
 },
 "nbformat": 4,
 "nbformat_minor": 5
}
