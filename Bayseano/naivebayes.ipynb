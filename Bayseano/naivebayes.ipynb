{
 "cells": [
  {
   "cell_type": "markdown",
   "id": "cd0cd3a9-450a-4307-b928-c4feefcf0d4c",
   "metadata": {},
   "source": [
    "## Importando Bibliotecas"
   ]
  },
  {
   "cell_type": "code",
   "execution_count": 1,
   "id": "a996bf84-196f-4e26-adb5-d44dc2c7f963",
   "metadata": {},
   "outputs": [],
   "source": [
    "import numpy as np \n",
    "import pandas as pd\n",
    "import matplotlib.pyplot as plt\n",
    "import seaborn as sns\n",
    "sns.set_style(\"darkgrid\")"
   ]
  },
  {
   "cell_type": "markdown",
   "id": "f023a364-0e5e-47b7-a4ec-5bf5f269c0a8",
   "metadata": {},
   "source": [
    "### Importando DataBase"
   ]
  },
  {
   "cell_type": "code",
   "execution_count": 2,
   "id": "f30e4385-0b5f-45fa-84d5-db4bb17be1fc",
   "metadata": {},
   "outputs": [
    {
     "data": {
      "text/html": [
       "<div>\n",
       "<style scoped>\n",
       "    .dataframe tbody tr th:only-of-type {\n",
       "        vertical-align: middle;\n",
       "    }\n",
       "\n",
       "    .dataframe tbody tr th {\n",
       "        vertical-align: top;\n",
       "    }\n",
       "\n",
       "    .dataframe thead th {\n",
       "        text-align: right;\n",
       "    }\n",
       "</style>\n",
       "<table border=\"1\" class=\"dataframe\">\n",
       "  <thead>\n",
       "    <tr style=\"text-align: right;\">\n",
       "      <th></th>\n",
       "      <th>feature0</th>\n",
       "      <th>feature1</th>\n",
       "      <th>feature2</th>\n",
       "      <th>feature3</th>\n",
       "      <th>feature4</th>\n",
       "      <th>feature5</th>\n",
       "      <th>feature6</th>\n",
       "      <th>feature7</th>\n",
       "      <th>feature8</th>\n",
       "      <th>feature9</th>\n",
       "      <th>feature10</th>\n",
       "      <th>feature11</th>\n",
       "      <th>feature12</th>\n",
       "      <th>feature13</th>\n",
       "      <th>feature14</th>\n",
       "      <th>feature15</th>\n",
       "      <th>target</th>\n",
       "    </tr>\n",
       "  </thead>\n",
       "  <tbody>\n",
       "    <tr>\n",
       "      <th>0</th>\n",
       "      <td>200.0</td>\n",
       "      <td>2</td>\n",
       "      <td>662.28</td>\n",
       "      <td>39.10</td>\n",
       "      <td>-188.55</td>\n",
       "      <td>0.246978</td>\n",
       "      <td>761</td>\n",
       "      <td>0.004548</td>\n",
       "      <td>3.523703</td>\n",
       "      <td>167326</td>\n",
       "      <td>33441.06</td>\n",
       "      <td>0.019804</td>\n",
       "      <td>26.850000</td>\n",
       "      <td>0.009198</td>\n",
       "      <td>94.611429</td>\n",
       "      <td>7</td>\n",
       "      <td>0</td>\n",
       "    </tr>\n",
       "    <tr>\n",
       "      <th>1</th>\n",
       "      <td>150.0</td>\n",
       "      <td>3</td>\n",
       "      <td>0.00</td>\n",
       "      <td>149.55</td>\n",
       "      <td>-0.45</td>\n",
       "      <td>0.150000</td>\n",
       "      <td>3</td>\n",
       "      <td>0.037975</td>\n",
       "      <td>0.000000</td>\n",
       "      <td>79</td>\n",
       "      <td>78.93</td>\n",
       "      <td>0.000000</td>\n",
       "      <td>0.000000</td>\n",
       "      <td>0.000000</td>\n",
       "      <td>0.000000</td>\n",
       "      <td>0</td>\n",
       "      <td>1</td>\n",
       "    </tr>\n",
       "    <tr>\n",
       "      <th>2</th>\n",
       "      <td>50.0</td>\n",
       "      <td>23</td>\n",
       "      <td>346.08</td>\n",
       "      <td>30.41</td>\n",
       "      <td>-102.10</td>\n",
       "      <td>2.430952</td>\n",
       "      <td>42</td>\n",
       "      <td>0.004239</td>\n",
       "      <td>3.389618</td>\n",
       "      <td>9907</td>\n",
       "      <td>18858.77</td>\n",
       "      <td>0.018351</td>\n",
       "      <td>25.525000</td>\n",
       "      <td>0.095238</td>\n",
       "      <td>86.520000</td>\n",
       "      <td>4</td>\n",
       "      <td>0</td>\n",
       "    </tr>\n",
       "    <tr>\n",
       "      <th>3</th>\n",
       "      <td>100.0</td>\n",
       "      <td>22</td>\n",
       "      <td>0.00</td>\n",
       "      <td>43.84</td>\n",
       "      <td>-56.16</td>\n",
       "      <td>0.150968</td>\n",
       "      <td>372</td>\n",
       "      <td>0.005854</td>\n",
       "      <td>0.000000</td>\n",
       "      <td>63544</td>\n",
       "      <td>1164.11</td>\n",
       "      <td>0.000000</td>\n",
       "      <td>0.000000</td>\n",
       "      <td>0.000000</td>\n",
       "      <td>0.000000</td>\n",
       "      <td>0</td>\n",
       "      <td>1</td>\n",
       "    </tr>\n",
       "    <tr>\n",
       "      <th>4</th>\n",
       "      <td>50.0</td>\n",
       "      <td>18</td>\n",
       "      <td>87.56</td>\n",
       "      <td>-3.05</td>\n",
       "      <td>-94.50</td>\n",
       "      <td>0.412664</td>\n",
       "      <td>229</td>\n",
       "      <td>0.004572</td>\n",
       "      <td>0.926561</td>\n",
       "      <td>50089</td>\n",
       "      <td>1786.26</td>\n",
       "      <td>0.049019</td>\n",
       "      <td>94.500000</td>\n",
       "      <td>0.004367</td>\n",
       "      <td>87.560000</td>\n",
       "      <td>1</td>\n",
       "      <td>0</td>\n",
       "    </tr>\n",
       "    <tr>\n",
       "      <th>5</th>\n",
       "      <td>850.0</td>\n",
       "      <td>9</td>\n",
       "      <td>1435.68</td>\n",
       "      <td>1.60</td>\n",
       "      <td>-848.40</td>\n",
       "      <td>0.589167</td>\n",
       "      <td>1440</td>\n",
       "      <td>0.003879</td>\n",
       "      <td>1.692221</td>\n",
       "      <td>371185</td>\n",
       "      <td>2745.78</td>\n",
       "      <td>0.522868</td>\n",
       "      <td>40.400000</td>\n",
       "      <td>0.014583</td>\n",
       "      <td>68.365714</td>\n",
       "      <td>21</td>\n",
       "      <td>1</td>\n",
       "    </tr>\n",
       "    <tr>\n",
       "      <th>6</th>\n",
       "      <td>50.0</td>\n",
       "      <td>1</td>\n",
       "      <td>436.85</td>\n",
       "      <td>6.80</td>\n",
       "      <td>-82.15</td>\n",
       "      <td>0.238116</td>\n",
       "      <td>345</td>\n",
       "      <td>0.018375</td>\n",
       "      <td>5.317712</td>\n",
       "      <td>18776</td>\n",
       "      <td>959.57</td>\n",
       "      <td>0.455256</td>\n",
       "      <td>20.537500</td>\n",
       "      <td>0.011594</td>\n",
       "      <td>109.212500</td>\n",
       "      <td>4</td>\n",
       "      <td>1</td>\n",
       "    </tr>\n",
       "    <tr>\n",
       "      <th>7</th>\n",
       "      <td>0.0</td>\n",
       "      <td>0</td>\n",
       "      <td>0.00</td>\n",
       "      <td>-6.50</td>\n",
       "      <td>-16.80</td>\n",
       "      <td>0.150000</td>\n",
       "      <td>112</td>\n",
       "      <td>0.017231</td>\n",
       "      <td>0.000000</td>\n",
       "      <td>6500</td>\n",
       "      <td>6692.13</td>\n",
       "      <td>0.000000</td>\n",
       "      <td>0.000000</td>\n",
       "      <td>0.000000</td>\n",
       "      <td>0.000000</td>\n",
       "      <td>0</td>\n",
       "      <td>0</td>\n",
       "    </tr>\n",
       "    <tr>\n",
       "      <th>8</th>\n",
       "      <td>100.0</td>\n",
       "      <td>11</td>\n",
       "      <td>1027.86</td>\n",
       "      <td>79.76</td>\n",
       "      <td>-110.56</td>\n",
       "      <td>0.362500</td>\n",
       "      <td>288</td>\n",
       "      <td>0.015098</td>\n",
       "      <td>9.845402</td>\n",
       "      <td>19075</td>\n",
       "      <td>3611.20</td>\n",
       "      <td>0.284631</td>\n",
       "      <td>8.030769</td>\n",
       "      <td>0.045139</td>\n",
       "      <td>79.066154</td>\n",
       "      <td>13</td>\n",
       "      <td>0</td>\n",
       "    </tr>\n",
       "    <tr>\n",
       "      <th>9</th>\n",
       "      <td>600.0</td>\n",
       "      <td>21</td>\n",
       "      <td>2876.01</td>\n",
       "      <td>3.68</td>\n",
       "      <td>-596.32</td>\n",
       "      <td>0.265251</td>\n",
       "      <td>2247</td>\n",
       "      <td>0.004584</td>\n",
       "      <td>4.825358</td>\n",
       "      <td>490191</td>\n",
       "      <td>2324.27</td>\n",
       "      <td>1.237382</td>\n",
       "      <td>31.369474</td>\n",
       "      <td>0.008456</td>\n",
       "      <td>151.368947</td>\n",
       "      <td>19</td>\n",
       "      <td>1</td>\n",
       "    </tr>\n",
       "  </tbody>\n",
       "</table>\n",
       "</div>"
      ],
      "text/plain": [
       "   feature0  feature1  feature2  feature3  feature4  feature5  feature6  \\\n",
       "0     200.0         2    662.28     39.10   -188.55  0.246978       761   \n",
       "1     150.0         3      0.00    149.55     -0.45  0.150000         3   \n",
       "2      50.0        23    346.08     30.41   -102.10  2.430952        42   \n",
       "3     100.0        22      0.00     43.84    -56.16  0.150968       372   \n",
       "4      50.0        18     87.56     -3.05    -94.50  0.412664       229   \n",
       "5     850.0         9   1435.68      1.60   -848.40  0.589167      1440   \n",
       "6      50.0         1    436.85      6.80    -82.15  0.238116       345   \n",
       "7       0.0         0      0.00     -6.50    -16.80  0.150000       112   \n",
       "8     100.0        11   1027.86     79.76   -110.56  0.362500       288   \n",
       "9     600.0        21   2876.01      3.68   -596.32  0.265251      2247   \n",
       "\n",
       "   feature7  feature8  feature9  feature10  feature11  feature12  feature13  \\\n",
       "0  0.004548  3.523703    167326   33441.06   0.019804  26.850000   0.009198   \n",
       "1  0.037975  0.000000        79      78.93   0.000000   0.000000   0.000000   \n",
       "2  0.004239  3.389618      9907   18858.77   0.018351  25.525000   0.095238   \n",
       "3  0.005854  0.000000     63544    1164.11   0.000000   0.000000   0.000000   \n",
       "4  0.004572  0.926561     50089    1786.26   0.049019  94.500000   0.004367   \n",
       "5  0.003879  1.692221    371185    2745.78   0.522868  40.400000   0.014583   \n",
       "6  0.018375  5.317712     18776     959.57   0.455256  20.537500   0.011594   \n",
       "7  0.017231  0.000000      6500    6692.13   0.000000   0.000000   0.000000   \n",
       "8  0.015098  9.845402     19075    3611.20   0.284631   8.030769   0.045139   \n",
       "9  0.004584  4.825358    490191    2324.27   1.237382  31.369474   0.008456   \n",
       "\n",
       "    feature14  feature15  target  \n",
       "0   94.611429          7       0  \n",
       "1    0.000000          0       1  \n",
       "2   86.520000          4       0  \n",
       "3    0.000000          0       1  \n",
       "4   87.560000          1       0  \n",
       "5   68.365714         21       1  \n",
       "6  109.212500          4       1  \n",
       "7    0.000000          0       0  \n",
       "8   79.066154         13       0  \n",
       "9  151.368947         19       1  "
      ]
     },
     "execution_count": 2,
     "metadata": {},
     "output_type": "execute_result"
    }
   ],
   "source": [
    "data = pd.read_csv(\"dataset_SIN492.parquet.csv\")\n",
    "data.head(10)"
   ]
  },
  {
   "cell_type": "markdown",
   "id": "7c7ce0b3-583a-41a7-8ffd-fd901beb8d46",
   "metadata": {},
   "source": [
    "### Matriz de Correlação"
   ]
  },
  {
   "cell_type": "code",
   "execution_count": 3,
   "id": "f27686d4-6f2d-4ef3-9967-da0e2b5e3da3",
   "metadata": {},
   "outputs": [
    {
     "data": {
      "text/plain": [
       "<Axes: >"
      ]
     },
     "execution_count": 3,
     "metadata": {},
     "output_type": "execute_result"
    },
    {
     "data": {
      "image/png": "[encoded data removed]",
      "text/plain": [
       "<Figure size 640x480 with 2 Axes>"
      ]
     },
     "metadata": {},
     "output_type": "display_data"
    }
   ],
   "source": [
    "corr = data.iloc[:,:-1].corr(method=\"pearson\")\n",
    "cmap = sns.diverging_palette(250,354,80,60,center='dark',as_cmap=True)\n",
    "sns.heatmap(corr, vmax=1, vmin=-.5, cmap=cmap, square=True, linewidths=.2)"
   ]
  },
  {
   "cell_type": "markdown",
   "id": "de98a8b7-c984-47ed-b4e2-d8bd5dc3a6e8",
   "metadata": {},
   "source": [
    "## Identificando outliers"
   ]
  },
  {
   "cell_type": "code",
   "execution_count": 4,
   "id": "6c59f0ad-1c63-4339-aa3a-6a64a3712e1e",
   "metadata": {},
   "outputs": [
    {
     "data": {
      "image/png": "[encoded data removed]",
      "text/plain": [
       "<Figure size 1200x600 with 2 Axes>"
      ]
     },
     "metadata": {},
     "output_type": "display_data"
    }
   ],
   "source": [
    "# Carregando os dados\n",
    "data = pd.read_csv(\"dataset_SIN492.parquet.csv\")\n",
    "\n",
    "# Identificando outliers usando z-score\n",
    "from scipy.stats import zscore\n",
    "\n",
    "z_scores = np.abs(zscore(data))\n",
    "threshold = 3  # Define um limiar para identificar outliers\n",
    "\n",
    "# Filtra as linhas que não contêm outliers\n",
    "data_no_outliers = data[(z_scores < threshold).all(axis=1)]\n",
    "\n",
    "#Visualiza os dados antes e depois da remoção de outliers\n",
    "plt.figure(figsize=(12, 6))\n",
    "\n",
    "plt.subplot(1, 2, 1)\n",
    "sns.boxplot(data=data)\n",
    "plt.title('Boxplot antes da remoção de outliers')\n",
    "\n",
    "plt.subplot(1, 2, 2)\n",
    "sns.boxplot(data=data_no_outliers)\n",
    "plt.title('Boxplot após a remoção de outliers')\n",
    "\n",
    "plt.show()"
   ]
  },
  {
   "cell_type": "code",
   "execution_count": 5,
   "id": "30d3b79e-490d-4436-b6c2-12a0d1d10c37",
   "metadata": {},
   "outputs": [
    {
     "name": "stdout",
     "output_type": "stream",
     "text": [
      "     feature0  feature1  feature2  feature3  feature4  feature5  feature6  \\\n",
      "0       200.0         2    662.28     39.10   -188.55  0.246978       761   \n",
      "1       150.0         3      0.00    149.55     -0.45  0.150000         3   \n",
      "3       100.0        22      0.00     43.84    -56.16  0.150968       372   \n",
      "4        50.0        18     87.56     -3.05    -94.50  0.412664       229   \n",
      "5       850.0         9   1435.68      1.60   -848.40  0.589167      1440   \n",
      "..        ...       ...       ...       ...       ...       ...       ...   \n",
      "459       0.0         5      0.00     -0.10    -50.10  0.150000       334   \n",
      "460    1050.0         9   1955.83     17.20  -1231.20  0.600000      1968   \n",
      "462     350.0         7      0.00     -1.99   -351.99  0.684805       514   \n",
      "463     400.0         4   1100.07    -18.20   -438.60  0.748464       586   \n",
      "464     150.0        31      0.00    114.30    -35.70  0.300000       119   \n",
      "\n",
      "     feature7  feature8  feature9  feature10  feature11  feature12  feature13  \\\n",
      "0    0.004548  3.523703    167326   33441.06   0.019804  26.850000   0.009198   \n",
      "1    0.037975  0.000000        79      78.93   0.000000   0.000000   0.000000   \n",
      "3    0.005854  0.000000     63544    1164.11   0.000000   0.000000   0.000000   \n",
      "4    0.004572  0.926561     50089    1786.26   0.049019  94.500000   0.004367   \n",
      "5    0.003879  1.692221    371185    2745.78   0.522868  40.400000   0.014583   \n",
      "..        ...       ...       ...        ...        ...        ...        ...   \n",
      "459  0.011295  0.000000     29570     189.98   0.000000   0.000000   0.000000   \n",
      "460  0.007718  1.656360    255002    3013.01   0.649128  73.800000   0.008130   \n",
      "462  0.004000  0.000000    128499    2263.65   0.000000   0.000000   0.000000   \n",
      "463  0.003683  2.508140    159109    5303.10   0.207439  62.657143   0.011945   \n",
      "464  0.003834  0.000000     31040     334.59   0.000000   0.000000   0.000000   \n",
      "\n",
      "      feature14  feature15  target  \n",
      "0     94.611429          7       0  \n",
      "1      0.000000          0       1  \n",
      "3      0.000000          0       1  \n",
      "4     87.560000          1       0  \n",
      "5     68.365714         21       1  \n",
      "..          ...        ...     ...  \n",
      "459    0.000000          0       1  \n",
      "460  122.239375         16       1  \n",
      "462    0.000000          0       1  \n",
      "463  157.152857          7       0  \n",
      "464    0.000000          0       0  \n",
      "\n",
      "[402 rows x 17 columns]\n"
     ]
    }
   ],
   "source": [
    "print(data_no_outliers)\n"
   ]
  },
  {
   "cell_type": "markdown",
   "id": "acc0ff1e-db6b-4122-a06e-12bcc187c5ab",
   "metadata": {},
   "source": [
    "## Prevenção de Frequência Zero"
   ]
  },
  {
   "cell_type": "code",
   "execution_count": 6,
   "id": "4a0843a4-28f1-48cd-8af5-7b9ad59a2959",
   "metadata": {},
   "outputs": [
    {
     "name": "stdout",
     "output_type": "stream",
     "text": [
      "     feature4  feature5  feature6  feature7  feature9\n",
      "0     -188.55  0.246978       761  0.004548    167326\n",
      "1       -0.45  0.150000         3  0.037975        79\n",
      "3      -56.16  0.150968       372  0.005854     63544\n",
      "4      -94.50  0.412664       229  0.004572     50089\n",
      "5     -848.40  0.589167      1440  0.003879    371185\n",
      "..        ...       ...       ...       ...       ...\n",
      "459    -50.10  0.150000       334  0.011295     29570\n",
      "460  -1231.20  0.600000      1968  0.007718    255002\n",
      "462   -351.99  0.684805       514  0.004000    128499\n",
      "463   -438.60  0.748464       586  0.003683    159109\n",
      "464    -35.70  0.300000       119  0.003834     31040\n",
      "\n",
      "[402 rows x 5 columns]\n"
     ]
    }
   ],
   "source": [
    "# data = pd.read_csv(\"dataset_SIN492.parquet.csv\")\n",
    "\n",
    "##Nome da Coluna com as classificações\n",
    "target_column = 'target'\n",
    "\n",
    "##Seleciona todos os dados das colunas retirando a coluna target_column\n",
    "num_colunas = data_no_outliers.drop(columns=[target_column]).select_dtypes(include=['number'])\n",
    "dataN = data_no_outliers.drop(columns=[target_column])\n",
    "\n",
    "df = pd.DataFrame(dataN)\n",
    "df.replace(0, pd.NA, inplace=True)\n",
    "dataN = df.dropna(axis=1)\n",
    "\n",
    "print(dataN)"
   ]
  },
  {
   "cell_type": "markdown",
   "id": "b8d2abe5-d97a-4714-9a98-30fbef5f693d",
   "metadata": {},
   "source": [
    "## Adicionando Média dos dados"
   ]
  },
  {
   "cell_type": "code",
   "execution_count": 7,
   "id": "ec21f031-e128-4eb7-9d81-e629ad63601a",
   "metadata": {},
   "outputs": [
    {
     "name": "stdout",
     "output_type": "stream",
     "text": [
      "     feature4  feature5  feature6  feature7  feature9         media\n",
      "0     -188.55  0.246978       761  0.004548    167326  33579.740305\n",
      "1       -0.45  0.150000         3  0.037975        79     16.347595\n",
      "3      -56.16  0.150968       372  0.005854     63544  12771.999364\n",
      "4      -94.50  0.412664       229  0.004572     50089  10044.783447\n",
      "5     -848.40  0.589167      1440  0.003879    371185  74355.438609\n",
      "..        ...       ...       ...       ...       ...           ...\n",
      "459    -50.10  0.150000       334  0.011295     29570   5970.812259\n",
      "460  -1231.20  0.600000      1968  0.007718    255002  51147.881544\n",
      "462   -351.99  0.684805       514  0.004000    128499  25732.339761\n",
      "463   -438.60  0.748464       586  0.003683    159109  31851.430429\n",
      "464    -35.70  0.300000       119  0.003834     31040   6224.720767\n",
      "\n",
      "[402 rows x 6 columns]\n"
     ]
    },
    {
     "name": "stderr",
     "output_type": "stream",
     "text": [
      "C:\\Users\\btmir\\AppData\\Local\\Temp\\ipykernel_18764\\2216649036.py:2: SettingWithCopyWarning: \n",
      "A value is trying to be set on a copy of a slice from a DataFrame.\n",
      "Try using .loc[row_indexer,col_indexer] = value instead\n",
      "\n",
      "See the caveats in the documentation: https://pandas.pydata.org/pandas-docs/stable/user_guide/indexing.html#returning-a-view-versus-a-copy\n",
      "  dataN['media'] = dataN.mean(axis=1)\n"
     ]
    }
   ],
   "source": [
    "\n",
    "# Calculando a média de cada linha\n",
    "dataN['media'] = dataN.mean(axis=1)\n",
    "\n",
    "# # Calculando o desvio padrão de cada coluna\n",
    "# desvios_padrao = data_no_outliers.std()\n",
    "\n",
    "# # Adicionando os resultados em uma nova coluna chamada 'desvio_padrao'\n",
    "# dataN['desvio_padrao'] = desvios_padrao\n",
    "\n",
    "\n",
    "# Exibindo as 10 primeiras linhas do DataFrame\n",
    "print(dataN)"
   ]
  },
  {
   "cell_type": "markdown",
   "id": "5405f015-bed6-4e9c-bd78-6d09b211bb9e",
   "metadata": {},
   "source": [
    "# Normalização"
   ]
  },
  {
   "cell_type": "code",
   "execution_count": 8,
   "id": "c8abdbd8-6ae1-408d-92e1-1d26a90db12d",
   "metadata": {},
   "outputs": [
    {
     "name": "stdout",
     "output_type": "stream",
     "text": [
      "     feature4  feature5  feature6  feature7  feature9     media  target\n",
      "0    0.283719 -0.503841 -0.022868 -0.199144 -0.001102 -0.000688       0\n",
      "1    0.770784 -0.806972 -0.858981  0.482893 -0.779547 -0.780306       1\n",
      "3    0.626529 -0.803947 -0.451955 -0.172492 -0.484151 -0.484015       1\n",
      "4    0.527252  0.014057 -0.609691 -0.198657 -0.546777 -0.547363       0\n",
      "5   -1.424893  0.565766  0.726105 -0.212785  0.947754  0.946460       1\n",
      "..        ...       ...       ...       ...       ...       ...     ...\n",
      "459  0.642221 -0.806972 -0.493871 -0.061474 -0.642282 -0.641994       1\n",
      "460 -2.416114  0.599628  1.308516 -0.134472  0.406984  0.407390       1\n",
      "462 -0.139492  0.864711 -0.295322 -0.210325 -0.181821 -0.182969       1\n",
      "463 -0.363759  1.063694 -0.215902 -0.216793 -0.039347 -0.040833       0\n",
      "464  0.679508 -0.338105 -0.731027 -0.213718 -0.635440 -0.636097       0\n",
      "\n",
      "[402 rows x 7 columns]\n"
     ]
    },
    {
     "name": "stderr",
     "output_type": "stream",
     "text": [
      "C:\\Users\\btmir\\AppData\\Local\\Temp\\ipykernel_18764\\99108818.py:2: SettingWithCopyWarning: \n",
      "A value is trying to be set on a copy of a slice from a DataFrame.\n",
      "Try using .loc[row_indexer,col_indexer] = value instead\n",
      "\n",
      "See the caveats in the documentation: https://pandas.pydata.org/pandas-docs/stable/user_guide/indexing.html#returning-a-view-versus-a-copy\n",
      "  dataN[num_colunas.columns] = (num_colunas - num_colunas.mean()) / num_colunas.std()\n"
     ]
    }
   ],
   "source": [
    "num_colunas = dataN.select_dtypes(include=['number'])\n",
    "dataN[num_colunas.columns] = (num_colunas - num_colunas.mean()) / num_colunas.std()\n",
    "data_no_outliers = pd.concat([dataN, data_no_outliers[[target_column]]], axis=1)\n",
    "\n",
    "\n",
    "# colunas_desejadas = ['feature5', 'feature6', 'media', 'target']\n",
    "\n",
    "# data = data_no_outliers[colunas_desejadas]\n",
    "\n",
    "data = data_no_outliers\n",
    "\n",
    "print(data)"
   ]
  },
  {
   "cell_type": "code",
   "execution_count": 9,
   "id": "d87fbd11-9480-45cf-976f-26e92f9a66b5",
   "metadata": {},
   "outputs": [
    {
     "data": {
      "image/png": "[encoded data removed]",
      "text/plain": [
       "<Figure size 1800x600 with 6 Axes>"
      ]
     },
     "metadata": {},
     "output_type": "display_data"
    }
   ],
   "source": [
    "fig, axes = plt.subplots(1, 6, figsize=(18, 6), sharey=True)\n",
    "\n",
    "# Subplot para feature4\n",
    "sns.histplot(data, ax=axes[0], x=\"feature4\", kde=True, color='r')\n",
    "\n",
    "# Subplot para feature5\n",
    "sns.histplot(data, ax=axes[1], x=\"feature5\", kde=True, color='b')\n",
    "\n",
    "# Subplot para feature6\n",
    "sns.histplot(data, ax=axes[2], x=\"feature6\", kde=True, color='g')\n",
    "\n",
    "# Subplot para feature7\n",
    "sns.histplot(data, ax=axes[3], x=\"feature7\", kde=True, color='c')\n",
    "\n",
    "# Subplot para feature9\n",
    "sns.histplot(data, ax=axes[4], x=\"feature9\", kde=True, color='m')\n",
    "\n",
    "# Subplot para média\n",
    "sns.histplot(data, ax=axes[5], x=\"media\", kde=True, color='y')\n",
    "\n",
    "plt.show()"
   ]
  },
  {
   "cell_type": "markdown",
   "id": "446f1074-3208-4d86-a8e2-aee1b405bf05",
   "metadata": {},
   "source": [
    "## Resultado "
   ]
  },
  {
   "cell_type": "code",
   "execution_count": 10,
   "id": "393a7c82-f79d-4363-a189-4c83358cd706",
   "metadata": {},
   "outputs": [],
   "source": [
    "def calculate_prior(df, Y):\n",
    "    # Obter as classes únicas presentes na coluna alvo (Y)\n",
    "    classes = sorted(list(df[Y].unique()))\n",
    "    \n",
    "    # Inicializar uma lista para armazenar as probabilidades a priori\n",
    "    prior = []\n",
    "    \n",
    "    # Para cada classe, calcular a probabilidade a priori\n",
    "    for i in classes:\n",
    "        prior.append(len(df[df[Y] == i]) / len(df))\n",
    "    \n",
    "    # Retornar a lista de probabilidades a priori\n",
    "    return prior\n"
   ]
  },
  {
   "cell_type": "code",
   "execution_count": 11,
   "id": "64e398b7-2d6a-45a1-8b07-3ed33570a4aa",
   "metadata": {},
   "outputs": [],
   "source": [
    "def calculate_likelihood_gaussian(df, feat_name, feat_val, Y, label):\n",
    "    # Obter os nomes das features no DataFrame\n",
    "    feat = list(df.columns)\n",
    "    \n",
    "    # Filtrar o DataFrame para conter apenas as linhas onde a classe (Y) é igual ao rótulo especificado\n",
    "    df = df[df[Y] == label]\n",
    "    \n",
    "    # Calcular a média e o desvio padrão da feature (feat_name) para a classe específica\n",
    "    mean, std = df[feat_name].mean(), df[feat_name].std()\n",
    "    \n",
    "    # Calcular a probabilidade condicional P(X|Y) usando a distribuição Gaussiana\n",
    "    p_x_given_y = (1 / (np.sqrt(2 * np.pi) * std)) * np.exp(-((feat_val - mean)**2 / (2 * std**2)))\n",
    "    \n",
    "    # Retornar a probabilidade condicional calculada\n",
    "    return p_x_given_y\n"
   ]
  },
  {
   "cell_type": "code",
   "execution_count": 12,
   "id": "776b3e7c-3c8c-45b1-9166-6db2ffe25ef4",
   "metadata": {},
   "outputs": [],
   "source": [
    "def naive_bayes_gaussian(df, X, Y):\n",
    "    # Obter os nomes das features\n",
    "    features = list(df.columns)[:-1]\n",
    "\n",
    "    # Calcular a probabilidade a priori\n",
    "    prior = calculate_prior(df, Y)\n",
    "\n",
    "    Y_pred = []\n",
    "    # Iterar sobre cada amostra de dados\n",
    "    for x in X:\n",
    "        # Calcular a verossimilhança\n",
    "        labels = sorted(list(df[Y].unique()))\n",
    "        likelihood = [1]*len(labels)\n",
    "        for j in range(len(labels)):\n",
    "            for i in range(len(features)):\n",
    "                likelihood[j] *= calculate_likelihood_gaussian(df, features[i], x[i], Y, labels[j])\n",
    "\n",
    "        # Calcular a probabilidade a posteriori (apenas o numerador)\n",
    "        post_prob = [1]*len(labels)\n",
    "        for j in range(len(labels)):\n",
    "            post_prob[j] = likelihood[j] * prior[j]\n",
    "\n",
    "        # Adicionar a classe predita com base na probabilidade a posteriori\n",
    "        Y_pred.append(np.argmax(post_prob))\n",
    "\n",
    "    # Retornar as predições como um array NumPy\n",
    "    return np.array(Y_pred)\n"
   ]
  },
  {
   "cell_type": "code",
   "execution_count": 13,
   "id": "e60a741e-6a6c-4210-90da-1d32bc17d8a3",
   "metadata": {},
   "outputs": [
    {
     "name": "stdout",
     "output_type": "stream",
     "text": [
      "     feature4  feature5  feature6  feature7  feature9     media  target\n",
      "0    0.283719 -0.503841 -0.022868 -0.199144 -0.001102 -0.000688       0\n",
      "1    0.770784 -0.806972 -0.858981  0.482893 -0.779547 -0.780306       1\n",
      "3    0.626529 -0.803947 -0.451955 -0.172492 -0.484151 -0.484015       1\n",
      "4    0.527252  0.014057 -0.609691 -0.198657 -0.546777 -0.547363       0\n",
      "5   -1.424893  0.565766  0.726105 -0.212785  0.947754  0.946460       1\n",
      "..        ...       ...       ...       ...       ...       ...     ...\n",
      "459  0.642221 -0.806972 -0.493871 -0.061474 -0.642282 -0.641994       1\n",
      "460 -2.416114  0.599628  1.308516 -0.134472  0.406984  0.407390       1\n",
      "462 -0.139492  0.864711 -0.295322 -0.210325 -0.181821 -0.182969       1\n",
      "463 -0.363759  1.063694 -0.215902 -0.216793 -0.039347 -0.040833       0\n",
      "464  0.679508 -0.338105 -0.731027 -0.213718 -0.635440 -0.636097       0\n",
      "\n",
      "[402 rows x 7 columns]\n"
     ]
    }
   ],
   "source": [
    "print(data)"
   ]
  },
  {
   "cell_type": "code",
   "execution_count": 14,
   "id": "b6cdc5c6-4413-460d-8ea9-d5a79b28377a",
   "metadata": {},
   "outputs": [
    {
     "name": "stdout",
     "output_type": "stream",
     "text": [
      "Confusion Matrix:\n",
      "[[14 30]\n",
      " [ 4 33]]\n",
      "F1 Score: 0.6599999999999999\n",
      "Accuracy: 0.5802469135802469\n"
     ]
    }
   ],
   "source": [
    "from sklearn.model_selection import train_test_split\n",
    "from sklearn.metrics import confusion_matrix, f1_score, accuracy_score\n",
    "\n",
    "# Dividir os dados em conjuntos de treinamento e teste\n",
    "train, test = train_test_split(data, test_size=.2, random_state=41)\n",
    "\n",
    "# Preparar os dados de teste\n",
    "X_test = test.iloc[:,:-1].values\n",
    "Y_test = test.iloc[:,-1].values\n",
    "\n",
    "# Realizar previsões usando o modelo Naive Bayes\n",
    "Y_pred = naive_bayes_gaussian(train, X=X_test, Y=\"target\")\n",
    "\n",
    "# Calcular e imprimir a matriz de confusão\n",
    "print(\"Confusion Matrix:\")\n",
    "cf = confusion_matrix(Y_test, Y_pred)\n",
    "print(cf)\n",
    "\n",
    "\n",
    "# Calcular e imprimir o F1 Score\n",
    "print(\"F1 Score:\", f1_score(Y_test, Y_pred))\n",
    "\n",
    "# Calcular e imprimir a Acurácia\n",
    "print(\"Accuracy:\", accuracy_score(Y_test, Y_pred))"
   ]
  },
  {
   "cell_type": "code",
   "execution_count": 15,
   "id": "8dfd97f0-733a-4c23-b75c-ea51010219f6",
   "metadata": {},
   "outputs": [],
   "source": [
    "# # Cria uma figura e um eixo\n",
    "# plt.figure(figsize=(5, 5))\n",
    "# sns.set(font_scale=1.2)\n",
    "# sns.heatmap(cf, annot=True, fmt=\"d\", cmap=\"Blues\", cbar=False,\n",
    "#             xticklabels=np.unique(data['target']),\n",
    "#             yticklabels=np.unique(data['target']))\n",
    "\n",
    "# # Adiciona rótulos aos eixos\n",
    "# plt.xlabel('Previsto')\n",
    "# plt.ylabel('Real')\n",
    "# plt.title('Matriz de Confusão')\n",
    "\n",
    "# # Exibe a matriz de confusão\n",
    "# plt.savefig(f'matrizC.pdf')\n",
    "# plt.show()"
   ]
  }
 ],
 "metadata": {
  "kernelspec": {
   "display_name": "Python 3 (ipykernel)",
   "language": "python",
   "name": "python3"
  },
  "language_info": {
   "codemirror_mode": {
    "name": "ipython",
    "version": 3
   },
   "file_extension": ".py",
   "mimetype": "text/x-python",
   "name": "python",
   "nbconvert_exporter": "python",
   "pygments_lexer": "ipython3",
   "version": "3.8.18"
  }
 },
 "nbformat": 4,
 "nbformat_minor": 5
}
