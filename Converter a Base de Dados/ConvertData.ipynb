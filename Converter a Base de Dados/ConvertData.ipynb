{
 "cells": [
  {
   "cell_type": "markdown",
   "id": "ca1851fc-8bce-4810-92c2-ed1923da9338",
   "metadata": {},
   "source": [
    "## Bibliotecas"
   ]
  },
  {
   "cell_type": "code",
   "execution_count": 6,
   "id": "4a591040-ca99-43f8-8eb7-cf975a2112d7",
   "metadata": {},
   "outputs": [],
   "source": [
    "import pandas as pd\n",
    "import numpy as np \n",
    "import matplotlib.pyplot as plt\n",
    "import seaborn as sns\n",
    "sns.set_style(\"darkgrid\")"
   ]
  },
  {
   "cell_type": "markdown",
   "id": "d107dd3d-be3a-47b2-abe5-170e146ba879",
   "metadata": {},
   "source": [
    "## Conversão"
   ]
  },
  {
   "cell_type": "code",
   "execution_count": 7,
   "id": "54b4dad1-62f1-490c-9423-4393bcf816ca",
   "metadata": {},
   "outputs": [],
   "source": [
    "parquet_doc = 'dataset_SIN492.parquet'\n",
    "df = pd.read_parquet(parquet_doc)\n",
    "df.head()\n",
    "csv_output = 'dataset_SIN492.parquet.csv'\n",
    "df.to_csv(csv_output, index=False)"
   ]
  }
 ],
 "metadata": {
  "kernelspec": {
   "display_name": "Python 3 (ipykernel)",
   "language": "python",
   "name": "python3"
  },
  "language_info": {
   "codemirror_mode": {
    "name": "ipython",
    "version": 3
   },
   "file_extension": ".py",
   "mimetype": "text/x-python",
   "name": "python",
   "nbconvert_exporter": "python",
   "pygments_lexer": "ipython3",
   "version": "3.11.7"
  }
 },
 "nbformat": 4,
 "nbformat_minor": 5
}
