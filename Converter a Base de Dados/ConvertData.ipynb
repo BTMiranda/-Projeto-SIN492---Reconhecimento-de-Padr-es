{
 "cells": [
  {
   "cell_type": "code",
   "execution_count": 1,
   "id": "6c8aa32b-7669-4f41-ac9b-aae005b233cf",
   "metadata": {},
   "outputs": [
    {
     "ename": "ModuleNotFoundError",
     "evalue": "No module named 'numpy'",
     "output_type": "error",
     "traceback": [
      "\u001b[1;31m---------------------------------------------------------------------------\u001b[0m",
      "\u001b[1;31mModuleNotFoundError\u001b[0m                       Traceback (most recent call last)",
      "Cell \u001b[1;32mIn[1], line 1\u001b[0m\n\u001b[1;32m----> 1\u001b[0m \u001b[38;5;28;01mimport\u001b[39;00m \u001b[38;5;21;01mnumpy\u001b[39;00m \u001b[38;5;28;01mas\u001b[39;00m \u001b[38;5;21;01mnp\u001b[39;00m \n\u001b[0;32m      2\u001b[0m \u001b[38;5;28;01mimport\u001b[39;00m \u001b[38;5;21;01mpandas\u001b[39;00m \u001b[38;5;28;01mas\u001b[39;00m \u001b[38;5;21;01mpd\u001b[39;00m\n\u001b[0;32m      3\u001b[0m \u001b[38;5;28;01mimport\u001b[39;00m \u001b[38;5;21;01mmatplotlib\u001b[39;00m\u001b[38;5;21;01m.\u001b[39;00m\u001b[38;5;21;01mpyplot\u001b[39;00m \u001b[38;5;28;01mas\u001b[39;00m \u001b[38;5;21;01mplt\u001b[39;00m\n",
      "\u001b[1;31mModuleNotFoundError\u001b[0m: No module named 'numpy'"
     ]
    }
   ],
   "source": [
    "import numpy as np \n",
    "import pandas as pd\n",
    "import matplotlib.pyplot as plt\n",
    "import seaborn as sns\n",
    "sns.set_style(\"darkgrid\")"
   ]
  },
  {
   "cell_type": "code",
   "execution_count": 5,
   "id": "4a591040-ca99-43f8-8eb7-cf975a2112d7",
   "metadata": {},
   "outputs": [
    {
     "name": "stdout",
     "output_type": "stream",
     "text": [
      "Collecting matplotlib\n",
      "  Downloading matplotlib-3.8.2-cp311-cp311-win_amd64.whl.metadata (5.9 kB)\n",
      "Collecting contourpy>=1.0.1 (from matplotlib)\n",
      "  Downloading contourpy-1.2.0-cp311-cp311-win_amd64.whl.metadata (5.8 kB)\n",
      "Collecting cycler>=0.10 (from matplotlib)\n",
      "  Using cached cycler-0.12.1-py3-none-any.whl.metadata (3.8 kB)\n",
      "Collecting fonttools>=4.22.0 (from matplotlib)\n",
      "  Downloading fonttools-4.47.2-cp311-cp311-win_amd64.whl.metadata (160 kB)\n",
      "     ---------------------------------------- 0.0/160.8 kB ? eta -:--:--\n",
      "     -- ------------------------------------- 10.2/160.8 kB ? eta -:--:--\n",
      "     ------- ----------------------------- 30.7/160.8 kB 660.6 kB/s eta 0:00:01\n",
      "     ------- ----------------------------- 30.7/160.8 kB 660.6 kB/s eta 0:00:01\n",
      "     --------- --------------------------- 41.0/160.8 kB 217.9 kB/s eta 0:00:01\n",
      "     -------------- ---------------------- 61.4/160.8 kB 297.7 kB/s eta 0:00:01\n",
      "     ------------------------- ---------- 112.6/160.8 kB 435.7 kB/s eta 0:00:01\n",
      "     ------------------------- ---------- 112.6/160.8 kB 435.7 kB/s eta 0:00:01\n",
      "     ---------------------------------- - 153.6/160.8 kB 437.1 kB/s eta 0:00:01\n",
      "     ------------------------------------ 160.8/160.8 kB 458.9 kB/s eta 0:00:00\n",
      "Collecting kiwisolver>=1.3.1 (from matplotlib)\n",
      "  Downloading kiwisolver-1.4.5-cp311-cp311-win_amd64.whl.metadata (6.5 kB)\n",
      "Requirement already satisfied: numpy<2,>=1.21 in d:\\anaconda3\\envs\\ver\\lib\\site-packages (from matplotlib) (1.26.3)\n",
      "Requirement already satisfied: packaging>=20.0 in d:\\anaconda3\\envs\\ver\\lib\\site-packages (from matplotlib) (23.1)\n",
      "Collecting pillow>=8 (from matplotlib)\n",
      "  Downloading pillow-10.2.0-cp311-cp311-win_amd64.whl.metadata (9.9 kB)\n",
      "Collecting pyparsing>=2.3.1 (from matplotlib)\n",
      "  Using cached pyparsing-3.1.1-py3-none-any.whl.metadata (5.1 kB)\n",
      "Requirement already satisfied: python-dateutil>=2.7 in d:\\anaconda3\\envs\\ver\\lib\\site-packages (from matplotlib) (2.8.2)\n",
      "Requirement already satisfied: six>=1.5 in d:\\anaconda3\\envs\\ver\\lib\\site-packages (from python-dateutil>=2.7->matplotlib) (1.16.0)\n",
      "Downloading matplotlib-3.8.2-cp311-cp311-win_amd64.whl (7.6 MB)\n",
      "   ---------------------------------------- 0.0/7.6 MB ? eta -:--:--\n",
      "    --------------------------------------- 0.1/7.6 MB 2.2 MB/s eta 0:00:04\n",
      "    --------------------------------------- 0.2/7.6 MB 2.3 MB/s eta 0:00:04\n",
      "    --------------------------------------- 0.2/7.6 MB 2.3 MB/s eta 0:00:04\n",
      "   - -------------------------------------- 0.2/7.6 MB 1.0 MB/s eta 0:00:08\n",
      "   - -------------------------------------- 0.3/7.6 MB 1.4 MB/s eta 0:00:06\n",
      "   - -------------------------------------- 0.3/7.6 MB 1.4 MB/s eta 0:00:06\n",
      "   - -------------------------------------- 0.3/7.6 MB 1.4 MB/s eta 0:00:06\n",
      "   -- ------------------------------------- 0.5/7.6 MB 1.3 MB/s eta 0:00:06\n",
      "   --- ------------------------------------ 0.7/7.6 MB 1.7 MB/s eta 0:00:05\n",
      "   --- ------------------------------------ 0.7/7.6 MB 1.7 MB/s eta 0:00:05\n",
      "   ---- ----------------------------------- 0.8/7.6 MB 1.5 MB/s eta 0:00:05\n",
      "   ----- ---------------------------------- 1.0/7.6 MB 1.7 MB/s eta 0:00:04\n",
      "   ----- ---------------------------------- 1.1/7.6 MB 1.8 MB/s eta 0:00:04\n",
      "   ----- ---------------------------------- 1.1/7.6 MB 1.8 MB/s eta 0:00:04\n",
      "   ------- -------------------------------- 1.4/7.6 MB 2.0 MB/s eta 0:00:04\n",
      "   --------- ------------------------------ 1.8/7.6 MB 2.4 MB/s eta 0:00:03\n",
      "   --------- ------------------------------ 1.8/7.6 MB 2.4 MB/s eta 0:00:03\n",
      "   --------- ------------------------------ 1.8/7.6 MB 2.1 MB/s eta 0:00:03\n",
      "   ------------ --------------------------- 2.4/7.6 MB 2.6 MB/s eta 0:00:02\n",
      "   ------------- -------------------------- 2.5/7.6 MB 2.7 MB/s eta 0:00:02\n",
      "   ------------- -------------------------- 2.5/7.6 MB 2.7 MB/s eta 0:00:02\n",
      "   --------------- ------------------------ 3.0/7.6 MB 2.9 MB/s eta 0:00:02\n",
      "   ------------------- -------------------- 3.8/7.6 MB 3.5 MB/s eta 0:00:02\n",
      "   -------------------- ------------------- 4.0/7.6 MB 3.6 MB/s eta 0:00:02\n",
      "   --------------------- ------------------ 4.1/7.6 MB 3.5 MB/s eta 0:00:02\n",
      "   ------------------------- -------------- 4.9/7.6 MB 4.0 MB/s eta 0:00:01\n",
      "   ---------------------------- ----------- 5.4/7.6 MB 4.3 MB/s eta 0:00:01\n",
      "   ---------------------------- ----------- 5.4/7.6 MB 4.3 MB/s eta 0:00:01\n",
      "   ------------------------------ --------- 5.8/7.6 MB 4.2 MB/s eta 0:00:01\n",
      "   ---------------------------------- ----- 6.7/7.6 MB 4.7 MB/s eta 0:00:01\n",
      "   ------------------------------------ --- 6.9/7.6 MB 4.9 MB/s eta 0:00:01\n",
      "   ------------------------------------ --- 6.9/7.6 MB 4.9 MB/s eta 0:00:01\n",
      "   ------------------------------------ --- 6.9/7.6 MB 4.9 MB/s eta 0:00:01\n",
      "   ------------------------------------ --- 6.9/7.6 MB 4.9 MB/s eta 0:00:01\n",
      "   ------------------------------------ --- 6.9/7.6 MB 4.9 MB/s eta 0:00:01\n",
      "   ------------------------------------ --- 6.9/7.6 MB 4.9 MB/s eta 0:00:01\n",
      "   ---------------------------------------  7.6/7.6 MB 4.4 MB/s eta 0:00:01\n",
      "   ---------------------------------------- 7.6/7.6 MB 4.3 MB/s eta 0:00:00\n",
      "Downloading contourpy-1.2.0-cp311-cp311-win_amd64.whl (187 kB)\n",
      "   ---------------------------------------- 0.0/187.6 kB ? eta -:--:--\n",
      "   --------------------------------------- 187.6/187.6 kB 11.1 MB/s eta 0:00:00\n",
      "Using cached cycler-0.12.1-py3-none-any.whl (8.3 kB)\n",
      "Downloading fonttools-4.47.2-cp311-cp311-win_amd64.whl (2.2 MB)\n",
      "   ---------------------------------------- 0.0/2.2 MB ? eta -:--:--\n",
      "   ------------ --------------------------- 0.7/2.2 MB 20.8 MB/s eta 0:00:01\n",
      "   ------------------------- -------------- 1.4/2.2 MB 18.0 MB/s eta 0:00:01\n",
      "   ---------------------------------------  2.2/2.2 MB 17.3 MB/s eta 0:00:01\n",
      "   ---------------------------------------- 2.2/2.2 MB 17.3 MB/s eta 0:00:00\n",
      "Downloading kiwisolver-1.4.5-cp311-cp311-win_amd64.whl (56 kB)\n",
      "   ---------------------------------------- 0.0/56.1 kB ? eta -:--:--\n",
      "   ---------------------------------------- 56.1/56.1 kB ? eta 0:00:00\n",
      "Downloading pillow-10.2.0-cp311-cp311-win_amd64.whl (2.6 MB)\n",
      "   ---------------------------------------- 0.0/2.6 MB ? eta -:--:--\n",
      "   ---------- ----------------------------- 0.7/2.6 MB 21.8 MB/s eta 0:00:01\n",
      "   ------------------ --------------------- 1.2/2.6 MB 15.4 MB/s eta 0:00:01\n",
      "   -------------------------------- ------- 2.1/2.6 MB 16.8 MB/s eta 0:00:01\n",
      "   ------------------------------------ --- 2.4/2.6 MB 15.3 MB/s eta 0:00:01\n",
      "   ------------------------------------ --- 2.4/2.6 MB 15.3 MB/s eta 0:00:01\n",
      "   ------------------------------------ --- 2.4/2.6 MB 15.3 MB/s eta 0:00:01\n",
      "   ------------------------------------ --- 2.4/2.6 MB 15.3 MB/s eta 0:00:01\n",
      "   ------------------------------------ --- 2.4/2.6 MB 15.3 MB/s eta 0:00:01\n",
      "   ------------------------------------ --- 2.4/2.6 MB 15.3 MB/s eta 0:00:01\n",
      "   ---------------------------------------- 2.6/2.6 MB 6.0 MB/s eta 0:00:00\n",
      "Using cached pyparsing-3.1.1-py3-none-any.whl (103 kB)\n",
      "Installing collected packages: pyparsing, pillow, kiwisolver, fonttools, cycler, contourpy, matplotlib\n",
      "Successfully installed contourpy-1.2.0 cycler-0.12.1 fonttools-4.47.2 kiwisolver-1.4.5 matplotlib-3.8.2 pillow-10.2.0 pyparsing-3.1.1\n"
     ]
    }
   ],
   "source": [
    "!pip install matplotlib"
   ]
  },
  {
   "cell_type": "markdown",
   "id": "d107dd3d-be3a-47b2-abe5-170e146ba879",
   "metadata": {},
   "source": [
    "## Conversão"
   ]
  },
  {
   "cell_type": "code",
   "execution_count": null,
   "id": "54b4dad1-62f1-490c-9423-4393bcf816ca",
   "metadata": {},
   "outputs": [],
   "source": [
    "parquet_doc = 'C:/Users/maste/Downloads/dataset_SIN492.parquet'\n",
    "df = pd.read_parquet(parquet_doc)\n",
    "df.head()\n",
    "csv_output = 'C:/Users/maste/Downloads/dataset_SIN492.parquet.csv'\n",
    "df.to_csv(csv_output, index=False)"
   ]
  }
 ],
 "metadata": {
  "kernelspec": {
   "display_name": "Python 3 (ipykernel)",
   "language": "python",
   "name": "python3"
  },
  "language_info": {
   "codemirror_mode": {
    "name": "ipython",
    "version": 3
   },
   "file_extension": ".py",
   "mimetype": "text/x-python",
   "name": "python",
   "nbconvert_exporter": "python",
   "pygments_lexer": "ipython3",
   "version": "3.11.7"
  }
 },
 "nbformat": 4,
 "nbformat_minor": 5
}
